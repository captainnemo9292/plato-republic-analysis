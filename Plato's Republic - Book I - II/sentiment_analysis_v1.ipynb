{
 "cells": [
  {
   "cell_type": "markdown",
   "metadata": {},
   "source": [
    "![BERT-based Sentiment Analysis and Visualization of Plato's Republic I~II](./img/image.png)"
   ]
  },
  {
   "cell_type": "code",
   "execution_count": null,
   "metadata": {},
   "outputs": [],
   "source": [
    "from transformers import pipeline\n",
    "\n",
    "nlp_sentiment = pipeline(\"sentiment-analysis\")"
   ]
  },
  {
   "cell_type": "code",
   "execution_count": 8,
   "metadata": {},
   "outputs": [],
   "source": [
    "import nltk\n",
    "import pandas as pd\n",
    "\n",
    "full_text = open(\"/mnt/d/nemo/philosophy_analysis/Plato/Plato's Republic/Plato's Republic - Book I - II/data/Dialogue with Cephalus.txt\",\"r\",encoding='UTF8').read()\n",
    "full_text = [' '.join(nltk.word_tokenize(s)) for s in full_text.replace('?', '.').replace('!', '.').split('.') if len(s)>20]\n",
    "\n",
    "results = nlp_sentiment(full_text)\n",
    "sentiment = []\n",
    "for s in results:\n",
    "    if s['label'] == 'NEGATIVE' and s['score'] > 0.9:\n",
    "        sentiment.append('NEGATIVE')\n",
    "    else:\n",
    "        sentiment.append('NEUTRAL')\n",
    "speaker = ['Cephalus'] * len(sentiment)\n",
    "cephalus_df = pd.DataFrame({'text':full_text, 'sentiment':sentiment, 'speaker':speaker})"
   ]
  },
  {
   "cell_type": "code",
   "execution_count": 7,
   "metadata": {
    "scrolled": true
   },
   "outputs": [],
   "source": [
    "import nltk\n",
    "import pandas as pd\n",
    "\n",
    "full_text = open(\"/mnt/d/nemo/philosophy_analysis/Plato/Plato's Republic/Plato's Republic - Book I - II/data/Dialogue with Polemarchus.txt\",\"r\",encoding='UTF8').read()\n",
    "full_text = [' '.join(nltk.word_tokenize(s)) for s in full_text.replace('?', '.').replace('!', '.').split('.') if len(s)>20]\n",
    "\n",
    "results = nlp_sentiment(full_text)\n",
    "sentiment = []\n",
    "for s in results:\n",
    "    if s['label'] == 'NEGATIVE' and s['score'] > 0.9:\n",
    "        sentiment.append('NEGATIVE')\n",
    "    else:\n",
    "        sentiment.append('NEUTRAL')\n",
    "speaker = ['Polemarchus'] * len(sentiment)\n",
    "polemarchus_df = pd.DataFrame({'text':full_text, 'sentiment':sentiment, 'speaker':speaker})"
   ]
  },
  {
   "cell_type": "code",
   "execution_count": 9,
   "metadata": {},
   "outputs": [],
   "source": [
    "import nltk\n",
    "import pandas as pd\n",
    "\n",
    "full_text = open(\"/mnt/d/nemo/philosophy_analysis/Plato/Plato's Republic/Plato's Republic - Book I - II/data/Dialogue with Thrasymachus.txt\",\"r\",encoding='UTF8').read()\n",
    "full_text = [' '.join(nltk.word_tokenize(s)) for s in full_text.replace('?', '.').replace('!', '.').split('.') if len(s)>20]\n",
    "\n",
    "results = nlp_sentiment(full_text)\n",
    "sentiment = []\n",
    "for s in results:\n",
    "    if s['label'] == 'NEGATIVE' and s['score'] > 0.9:\n",
    "        sentiment.append('NEGATIVE')\n",
    "    else:\n",
    "        sentiment.append('NEUTRAL')\n",
    "speaker = ['Thrasymachus'] * len(sentiment)\n",
    "thrasymachus_df = pd.DataFrame({'text':full_text, 'sentiment':sentiment, 'speaker':speaker})"
   ]
  },
  {
   "cell_type": "code",
   "execution_count": 10,
   "metadata": {},
   "outputs": [],
   "source": [
    "import nltk\n",
    "import pandas as pd\n",
    "\n",
    "full_text = open(\"/mnt/d/nemo/philosophy_analysis/Plato/Plato's Republic/Plato's Republic - Book I - II/data/Dialogue with Glaucon.txt\",\"r\",encoding='UTF8').read()\n",
    "full_text = [' '.join(nltk.word_tokenize(s)) for s in full_text.replace('?', '.').replace('!', '.').split('.') if len(s)>20]\n",
    "\n",
    "results = nlp_sentiment(full_text)\n",
    "sentiment = []\n",
    "for s in results:\n",
    "    if s['label'] == 'NEGATIVE' and s['score'] > 0.9:\n",
    "        sentiment.append('NEGATIVE')\n",
    "    else:\n",
    "        sentiment.append('NEUTRAL')\n",
    "speaker = ['Glaucon'] * len(sentiment)\n",
    "galucon_df = pd.DataFrame({'text':full_text, 'sentiment':sentiment, 'speaker':speaker})"
   ]
  },
  {
   "cell_type": "code",
   "execution_count": 12,
   "metadata": {},
   "outputs": [],
   "source": [
    "import nltk\n",
    "import pandas as pd\n",
    "\n",
    "full_text = open(\"/mnt/d/nemo/philosophy_analysis/Plato/Plato's Republic/Plato's Republic - Book I - II/data/Dialogue with Adeimantus.txt\",\"r\",encoding='UTF8').read()\n",
    "full_text = [' '.join(nltk.word_tokenize(s)) for s in full_text.replace('?', '.').replace('!', '.').split('.') if len(s)>20]\n",
    "\n",
    "results = nlp_sentiment(full_text)\n",
    "sentiment = []\n",
    "for s in results:\n",
    "    if s['label'] == 'NEGATIVE' and s['score'] > 0.9:\n",
    "        sentiment.append('NEGATIVE')\n",
    "    else:\n",
    "        sentiment.append('NEUTRAL')\n",
    "speaker = ['Adeimantus'] * len(sentiment)\n",
    "adeimantus_df = pd.DataFrame({'text':full_text, 'sentiment':sentiment, 'speaker':speaker})"
   ]
  },
  {
   "cell_type": "code",
   "execution_count": 17,
   "metadata": {},
   "outputs": [
    {
     "data": {
      "text/html": [
       "<div>\n",
       "<style scoped>\n",
       "    .dataframe tbody tr th:only-of-type {\n",
       "        vertical-align: middle;\n",
       "    }\n",
       "\n",
       "    .dataframe tbody tr th {\n",
       "        vertical-align: top;\n",
       "    }\n",
       "\n",
       "    .dataframe thead th {\n",
       "        text-align: right;\n",
       "    }\n",
       "</style>\n",
       "<table border=\"1\" class=\"dataframe\">\n",
       "  <thead>\n",
       "    <tr style=\"text-align: right;\">\n",
       "      <th></th>\n",
       "      <th>text</th>\n",
       "      <th>sentiment</th>\n",
       "      <th>speaker</th>\n",
       "    </tr>\n",
       "  </thead>\n",
       "  <tbody>\n",
       "    <tr>\n",
       "      <th>839</th>\n",
       "      <td>But I speak in this vehement manner , as I mus...</td>\n",
       "      <td>NEUTRAL</td>\n",
       "      <td>Adeimantus</td>\n",
       "    </tr>\n",
       "    <tr>\n",
       "      <th>840</th>\n",
       "      <td>And please , as Glaucon requested of you , to ...</td>\n",
       "      <td>NEUTRAL</td>\n",
       "      <td>Adeimantus</td>\n",
       "    </tr>\n",
       "    <tr>\n",
       "      <th>841</th>\n",
       "      <td>Now as you have admitted that justice is one o...</td>\n",
       "      <td>NEUTRAL</td>\n",
       "      <td>Adeimantus</td>\n",
       "    </tr>\n",
       "    <tr>\n",
       "      <th>842</th>\n",
       "      <td>Let others praise justice and censure injustic...</td>\n",
       "      <td>NEGATIVE</td>\n",
       "      <td>Adeimantus</td>\n",
       "    </tr>\n",
       "    <tr>\n",
       "      <th>843</th>\n",
       "      <td>And therefore , I say , not only prove to us t...</td>\n",
       "      <td>NEUTRAL</td>\n",
       "      <td>Adeimantus</td>\n",
       "    </tr>\n",
       "  </tbody>\n",
       "</table>\n",
       "</div>"
      ],
      "text/plain": [
       "                                                  text sentiment     speaker\n",
       "839  But I speak in this vehement manner , as I mus...   NEUTRAL  Adeimantus\n",
       "840  And please , as Glaucon requested of you , to ...   NEUTRAL  Adeimantus\n",
       "841  Now as you have admitted that justice is one o...   NEUTRAL  Adeimantus\n",
       "842  Let others praise justice and censure injustic...  NEGATIVE  Adeimantus\n",
       "843  And therefore , I say , not only prove to us t...   NEUTRAL  Adeimantus"
      ]
     },
     "execution_count": 17,
     "metadata": {},
     "output_type": "execute_result"
    }
   ],
   "source": [
    "dialogue_df = pd.concat([cephalus_df, polemarchus_df, thrasymachus_df, galucon_df, adeimantus_df], join='outer', axis=0).reset_index(drop=True)\n",
    "dialogue_df.to_csv('/mnt/d/nemo/philosophy_analysis/Plato/Plato\\'s Republic/Plato\\'s Republic - Book I - II/data/dialouge_data.csv')\n",
    "dialogue_df.tail()"
   ]
  },
  {
   "cell_type": "code",
   "execution_count": null,
   "metadata": {
    "scrolled": true
   },
   "outputs": [],
   "source": [
    "import spacy\n",
    "import scattertext as st\n",
    "import pandas as pd\n",
    "\n",
    "dialogue_df = pd.read_csv('/mnt/d/nemo/philosophy_analysis/Plato/Plato\\'s Republic/Plato\\'s Republic - Book I - II/data/dialouge_data.csv', index_col=0)\n",
    "\n",
    "nlp = spacy.load('en')\n",
    "corpus = st.CorpusFromPandas(dialogue_df, category_col='sentiment', text_col='text',  nlp=nlp).build()\n",
    "html = st.produce_scattertext_explorer(corpus, category='NEGATIVE', \n",
    "                                       category_name='NEGATIVE', \n",
    "                                       not_category_name='NEUTRAL',\n",
    "                                       width_in_pixels=1000,\n",
    "                                       metadata=dialogue_df['speaker'])\n",
    "\n",
    "open(\"Dialogue_Sentiment.html\", 'wb').write(html.encode('utf-8'))"
   ]
  }
 ],
 "metadata": {
  "kernelspec": {
   "display_name": "nemo",
   "language": "python",
   "name": "nemo"
  },
  "language_info": {
   "codemirror_mode": {
    "name": "ipython",
    "version": 3
   },
   "file_extension": ".py",
   "mimetype": "text/x-python",
   "name": "python",
   "nbconvert_exporter": "python",
   "pygments_lexer": "ipython3",
   "version": "3.6.10"
  }
 },
 "nbformat": 4,
 "nbformat_minor": 4
}
