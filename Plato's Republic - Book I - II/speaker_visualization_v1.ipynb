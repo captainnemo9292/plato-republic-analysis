{
 "cells": [
  {
   "cell_type": "code",
   "execution_count": 1,
   "metadata": {},
   "outputs": [
    {
     "name": "stderr",
     "output_type": "stream",
     "text": [
      "WARNING:root:This caffe2 python run does not have GPU support. Will run in CPU only mode.\n"
     ]
    },
    {
     "data": {
      "text/plain": [
       "564178"
      ]
     },
     "execution_count": 1,
     "metadata": {},
     "output_type": "execute_result"
    }
   ],
   "source": [
    "import spacy\n",
    "import scattertext as st\n",
    "import pandas as pd\n",
    "\n",
    "dialogue_df = pd.read_csv('/mnt/d/nemo/philosophy_analysis/Plato/Plato\\'s Republic/Plato\\'s Republic - Book I - II/data/dialouge_data.csv', index_col=0)\n",
    "\n",
    "nlp = spacy.load('en')\n",
    "corpus = st.CorpusFromPandas(dialogue_df, category_col='speaker', text_col='text',  nlp=nlp).build()\n",
    "html = st.produce_scattertext_explorer(corpus, category='Thrasymachus', \n",
    "                                       category_name='Thrasymachus', \n",
    "                                       not_category_name='Other',\n",
    "                                       width_in_pixels=1000,\n",
    "                                       metadata=dialogue_df['speaker'])\n",
    "\n",
    "open(\"Dialogue_Thrasymachus.html\", 'wb').write(html.encode('utf-8'))"
   ]
  },
  {
   "cell_type": "code",
   "execution_count": 3,
   "metadata": {},
   "outputs": [
    {
     "data": {
      "text/plain": [
       "564231"
      ]
     },
     "execution_count": 3,
     "metadata": {},
     "output_type": "execute_result"
    }
   ],
   "source": [
    "import spacy\n",
    "import scattertext as st\n",
    "import pandas as pd\n",
    "\n",
    "dialogue_df = pd.read_csv('/mnt/d/nemo/philosophy_analysis/Plato/Plato\\'s Republic/Plato\\'s Republic - Book I - II/data/dialouge_data.csv', index_col=0)\n",
    "\n",
    "nlp = spacy.load('en')\n",
    "corpus = st.CorpusFromPandas(dialogue_df, category_col='speaker', text_col='text',  nlp=nlp).build()\n",
    "html = st.produce_scattertext_explorer(corpus, category='Polemarchus', \n",
    "                                       category_name='Polemarchus', \n",
    "                                       not_category_name='Other',\n",
    "                                       width_in_pixels=1000,\n",
    "                                       metadata=dialogue_df['speaker'])\n",
    "\n",
    "open(\"Dialogue_Polemarchus.html\", 'wb').write(html.encode('utf-8'))"
   ]
  },
  {
   "cell_type": "code",
   "execution_count": 4,
   "metadata": {},
   "outputs": [
    {
     "data": {
      "text/plain": [
       "564262"
      ]
     },
     "execution_count": 4,
     "metadata": {},
     "output_type": "execute_result"
    }
   ],
   "source": [
    "import spacy\n",
    "import scattertext as st\n",
    "import pandas as pd\n",
    "\n",
    "dialogue_df = pd.read_csv('/mnt/d/nemo/philosophy_analysis/Plato/Plato\\'s Republic/Plato\\'s Republic - Book I - II/data/dialouge_data.csv', index_col=0)\n",
    "\n",
    "nlp = spacy.load('en')\n",
    "corpus = st.CorpusFromPandas(dialogue_df, category_col='speaker', text_col='text',  nlp=nlp).build()\n",
    "html = st.produce_scattertext_explorer(corpus, category='Cephalus', \n",
    "                                       category_name='Cephalus', \n",
    "                                       not_category_name='Other',\n",
    "                                       width_in_pixels=1000,\n",
    "                                       metadata=dialogue_df['speaker'])\n",
    "\n",
    "open(\"Dialogue_Cephalus.html\", 'wb').write(html.encode('utf-8'))"
   ]
  },
  {
   "cell_type": "code",
   "execution_count": 5,
   "metadata": {},
   "outputs": [
    {
     "data": {
      "text/plain": [
       "564285"
      ]
     },
     "execution_count": 5,
     "metadata": {},
     "output_type": "execute_result"
    }
   ],
   "source": [
    "import spacy\n",
    "import scattertext as st\n",
    "import pandas as pd\n",
    "\n",
    "dialogue_df = pd.read_csv('/mnt/d/nemo/philosophy_analysis/Plato/Plato\\'s Republic/Plato\\'s Republic - Book I - II/data/dialouge_data.csv', index_col=0)\n",
    "\n",
    "nlp = spacy.load('en')\n",
    "corpus = st.CorpusFromPandas(dialogue_df, category_col='speaker', text_col='text',  nlp=nlp).build()\n",
    "html = st.produce_scattertext_explorer(corpus, category='Glaucon', \n",
    "                                       category_name='Glaucon', \n",
    "                                       not_category_name='Other',\n",
    "                                       width_in_pixels=1000,\n",
    "                                       metadata=dialogue_df['speaker'])\n",
    "\n",
    "open(\"Dialogue_Glaucon.html\", 'wb').write(html.encode('utf-8'))"
   ]
  },
  {
   "cell_type": "code",
   "execution_count": 6,
   "metadata": {},
   "outputs": [
    {
     "data": {
      "text/plain": [
       "564054"
      ]
     },
     "execution_count": 6,
     "metadata": {},
     "output_type": "execute_result"
    }
   ],
   "source": [
    "import spacy\n",
    "import scattertext as st\n",
    "import pandas as pd\n",
    "\n",
    "dialogue_df = pd.read_csv('/mnt/d/nemo/philosophy_analysis/Plato/Plato\\'s Republic/Plato\\'s Republic - Book I - II/data/dialouge_data.csv', index_col=0)\n",
    "\n",
    "nlp = spacy.load('en')\n",
    "corpus = st.CorpusFromPandas(dialogue_df, category_col='speaker', text_col='text',  nlp=nlp).build()\n",
    "html = st.produce_scattertext_explorer(corpus, category='Adeimantus', \n",
    "                                       category_name='Adeimantus', \n",
    "                                       not_category_name='Other',\n",
    "                                       width_in_pixels=1000,\n",
    "                                       metadata=dialogue_df['speaker'])\n",
    "\n",
    "open(\"Dialogue_Adeimantus.html\", 'wb').write(html.encode('utf-8'))"
   ]
  }
 ],
 "metadata": {
  "kernelspec": {
   "display_name": "nemo",
   "language": "python",
   "name": "nemo"
  },
  "language_info": {
   "codemirror_mode": {
    "name": "ipython",
    "version": 3
   },
   "file_extension": ".py",
   "mimetype": "text/x-python",
   "name": "python",
   "nbconvert_exporter": "python",
   "pygments_lexer": "ipython3",
   "version": "3.6.10"
  }
 },
 "nbformat": 4,
 "nbformat_minor": 4
}
